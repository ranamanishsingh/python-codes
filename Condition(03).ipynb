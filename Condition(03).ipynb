{
 "cells": [
  {
   "cell_type": "markdown",
   "id": "dae33509",
   "metadata": {},
   "source": [
    "# Condition\n"
   ]
  },
  {
   "cell_type": "code",
   "execution_count": 3,
   "id": "230fd46e",
   "metadata": {},
   "outputs": [],
   "source": [
    "#if (condition):\n",
    "#    msg\n",
    "#    print()\n",
    "a=10\n",
    "b=12\n",
    "if(a>b):\n",
    "    print(\"False\")"
   ]
  },
  {
   "cell_type": "code",
   "execution_count": 4,
   "id": "6e6ac8aa",
   "metadata": {},
   "outputs": [
    {
     "name": "stdout",
     "output_type": "stream",
     "text": [
      "hello\n"
     ]
    }
   ],
   "source": [
    "z=12\n",
    "x=10\n",
    "if(z>10):\n",
    "    print(\"hello\")"
   ]
  },
  {
   "cell_type": "code",
   "execution_count": 5,
   "id": "1365af3f",
   "metadata": {},
   "outputs": [
    {
     "name": "stdout",
     "output_type": "stream",
     "text": [
      "tum bacche ho\n"
     ]
    }
   ],
   "source": [
    "age=20\n",
    "if (age>20):\n",
    "    print(\"Adult\")\n",
    "else:\n",
    "    print(\"tum bacche ho\")"
   ]
  },
  {
   "cell_type": "code",
   "execution_count": 6,
   "id": "6ce2f671",
   "metadata": {},
   "outputs": [
    {
     "name": "stdout",
     "output_type": "stream",
     "text": [
      "kids op\n"
     ]
    }
   ],
   "source": [
    "age = 19\n",
    "if(age>=20):\n",
    "    print(\"Adult ho bhai not op\")\n",
    "elif(age==18):\n",
    "    print(\"New voter op \")\n",
    "else:\n",
    "    print(\"kids op\")"
   ]
  },
  {
   "cell_type": "code",
   "execution_count": 7,
   "id": "c37bad82",
   "metadata": {},
   "outputs": [
    {
     "name": "stdout",
     "output_type": "stream",
     "text": [
      "Enter the no100\n",
      "Enter the no23\n",
      "Enter the no-34\n",
      "100\n"
     ]
    }
   ],
   "source": [
    "#WAP take a input from user and store the marks in a variable & tell him his division \n",
    "#WAP take a input from user & find max. of 3 numbers\n",
    "# WAP take a input from user & find min. of 3 numbers\n",
    "#mAX\n",
    "a=int(input(\"Enter the no\"))\n",
    "b=int(input(\"Enter the no\"))\n",
    "c=int(input(\"Enter the no\"))\n",
    "if (a>b and a>c):\n",
    "    print(a)\n",
    "elif(b>a and b>c):\n",
    "    print(b)\n",
    "else:\n",
    "    print(c)"
   ]
  },
  {
   "cell_type": "code",
   "execution_count": 8,
   "id": "73db59c4",
   "metadata": {},
   "outputs": [
    {
     "name": "stdout",
     "output_type": "stream",
     "text": [
      "Enter the no1\n",
      "Enter the no2\n",
      "Enter the no3\n",
      "1\n"
     ]
    }
   ],
   "source": [
    "#min\n",
    "a=int(input(\"Enter the no\"))\n",
    "b=int(input(\"Enter the no\"))\n",
    "c=int(input(\"Enter the no\"))\n",
    "if (a<b and a<c):\n",
    "    print(a)\n",
    "elif(b<a and b<c):\n",
    "    print(b)\n",
    "else:\n",
    "    print(c)"
   ]
  },
  {
   "cell_type": "code",
   "execution_count": 9,
   "id": "9b0e455c",
   "metadata": {},
   "outputs": [
    {
     "name": "stdout",
     "output_type": "stream",
     "text": [
      "1\n"
     ]
    }
   ],
   "source": [
    "#same program line no 8\n",
    "#min\n",
    "a=1\n",
    "b=2\n",
    "c=3\n",
    "if (a<b and a<c):\n",
    "    print(a)\n",
    "elif(b<a and b<c):\n",
    "    print(b)\n",
    "else:\n",
    "    print(c)"
   ]
  },
  {
   "cell_type": "code",
   "execution_count": 10,
   "id": "9e15e359",
   "metadata": {},
   "outputs": [],
   "source": [
    "#String\n",
    "a = 'fegfier!@@##$1234343'"
   ]
  },
  {
   "cell_type": "code",
   "execution_count": 11,
   "id": "a3477b90",
   "metadata": {},
   "outputs": [
    {
     "name": "stdout",
     "output_type": "stream",
     "text": [
      "fegfier!@@##$1234343\n"
     ]
    }
   ],
   "source": [
    "print(a)"
   ]
  },
  {
   "cell_type": "code",
   "execution_count": 12,
   "id": "25d508a0",
   "metadata": {},
   "outputs": [
    {
     "data": {
      "text/plain": [
       "str"
      ]
     },
     "execution_count": 12,
     "metadata": {},
     "output_type": "execute_result"
    }
   ],
   "source": [
    "type(a)"
   ]
  },
  {
   "cell_type": "code",
   "execution_count": 13,
   "id": "2b69cf5e",
   "metadata": {},
   "outputs": [],
   "source": [
    "a='Manish'"
   ]
  },
  {
   "cell_type": "code",
   "execution_count": 14,
   "id": "a3c7571c",
   "metadata": {},
   "outputs": [
    {
     "name": "stdout",
     "output_type": "stream",
     "text": [
      "Manish\n"
     ]
    }
   ],
   "source": [
    "print(a)"
   ]
  },
  {
   "cell_type": "code",
   "execution_count": 15,
   "id": "4c52ebd1",
   "metadata": {},
   "outputs": [
    {
     "name": "stdout",
     "output_type": "stream",
     "text": [
      "6\n"
     ]
    }
   ],
   "source": [
    "a=len('Manish')\n",
    "print(a)"
   ]
  },
  {
   "cell_type": "code",
   "execution_count": 16,
   "id": "0ee8c8dc",
   "metadata": {},
   "outputs": [],
   "source": [
    "x='ankit'"
   ]
  },
  {
   "cell_type": "code",
   "execution_count": 17,
   "id": "96c6072c",
   "metadata": {},
   "outputs": [
    {
     "data": {
      "text/plain": [
       "5"
      ]
     },
     "execution_count": 17,
     "metadata": {},
     "output_type": "execute_result"
    }
   ],
   "source": [
    "len(x)"
   ]
  },
  {
   "cell_type": "code",
   "execution_count": 18,
   "id": "134a3d6b",
   "metadata": {},
   "outputs": [
    {
     "name": "stdout",
     "output_type": "stream",
     "text": [
      "ankit\n"
     ]
    }
   ],
   "source": [
    "print(x)"
   ]
  },
  {
   "cell_type": "code",
   "execution_count": null,
   "id": "a315c6a7",
   "metadata": {},
   "outputs": [],
   "source": []
  }
 ],
 "metadata": {
  "kernelspec": {
   "display_name": "Python 3",
   "language": "python",
   "name": "python3"
  },
  "language_info": {
   "codemirror_mode": {
    "name": "ipython",
    "version": 3
   },
   "file_extension": ".py",
   "mimetype": "text/x-python",
   "name": "python",
   "nbconvert_exporter": "python",
   "pygments_lexer": "ipython3",
   "version": "3.8.8"
  }
 },
 "nbformat": 4,
 "nbformat_minor": 5
}
